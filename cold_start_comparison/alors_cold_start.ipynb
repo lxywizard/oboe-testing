{
 "cells": [
  {
   "cell_type": "code",
   "execution_count": null,
   "metadata": {},
   "outputs": [],
   "source": [
    "oboe_automl_path = '../../../oboe/automl'\n",
    "metafeature_folder_path = 'selected_OpenML_dataset_metafeatures'"
   ]
  },
  {
   "cell_type": "code",
   "execution_count": null,
   "metadata": {},
   "outputs": [],
   "source": [
    "import numpy as np\n",
    "import pandas as pd\n",
    "import sys\n",
    "import re\n",
    "import os\n",
    "from tqdm import tqdm\n",
    "from sklearn.ensemble import RandomForestRegressor\n",
    "from sklearn.model_selection import LeaveOneOut"
   ]
  },
  {
   "cell_type": "code",
   "execution_count": null,
   "metadata": {},
   "outputs": [],
   "source": [
    "sys.path.append(oboe_automl_path)\n",
    "import linalg"
   ]
  },
  {
   "cell_type": "code",
   "execution_count": null,
   "metadata": {},
   "outputs": [],
   "source": [
    "# indices of datasets on which metafeatures have been calculated\n",
    "ind_metafeatures = [int(re.findall(\"\\\\d+\", file)[0]) for file in os.listdir(metafeature_folder_path) if file.endswith('.csv') and 'sizes' not in file]"
   ]
  },
  {
   "cell_type": "code",
   "execution_count": null,
   "metadata": {},
   "outputs": [],
   "source": [
    "errmtx_df = pd.read_csv(os.path.join(oboe_automl_path, 'defaults/error_matrix.csv'), index_col=0, header=0)\n",
    "errmtx = errmtx_df.values\n",
    "ind_errmtx = errmtx_df.index.astype(int)"
   ]
  },
  {
   "cell_type": "code",
   "execution_count": null,
   "metadata": {},
   "outputs": [],
   "source": [
    "approximate_rank = linalg.approx_rank(errmtx, threshold=0.01)"
   ]
  },
  {
   "cell_type": "code",
   "execution_count": null,
   "metadata": {},
   "outputs": [],
   "source": [
    "ind_common = list(set(ind_errmtx).intersection(set(ind_metafeatures)))"
   ]
  },
  {
   "cell_type": "code",
   "execution_count": null,
   "metadata": {},
   "outputs": [],
   "source": [
    "cold_start_mapping = RandomForestRegressor()"
   ]
  },
  {
   "cell_type": "code",
   "execution_count": null,
   "metadata": {},
   "outputs": [],
   "source": [
    "X = np.vstack((pd.read_csv(os.path.join(metafeature_folder_path, 'metafeatures_{}.csv'.format(ind)), index_col=0, header=0).values for ind in ind_common))"
   ]
  },
  {
   "cell_type": "code",
   "execution_count": null,
   "metadata": {},
   "outputs": [],
   "source": [
    "def indloc(indices, ind):\n",
    "    return np.where(np.array(indices)==ind)[0][0]"
   ]
  },
  {
   "cell_type": "code",
   "execution_count": null,
   "metadata": {},
   "outputs": [],
   "source": [
    "loo = LeaveOneOut()"
   ]
  },
  {
   "cell_type": "code",
   "execution_count": null,
   "metadata": {},
   "outputs": [],
   "source": [
    "centering = False #whether to center the vectors\n",
    "\n",
    "if centering:\n",
    "    errmtx_in_use = errmtx - np.dot(np.ones(errmtx.shape[0]).reshape(-1, 1), np.average(errmtx, axis=0).reshape(1, -1))\n",
    "else:\n",
    "    errmtx_in_use = errmtx    \n",
    "    \n",
    "X_pca, Y_pca, _ = linalg.pca(errmtx_in_use, threshold=0.01)\n",
    "U = np.vstack((X_pca.T[indloc(ind_errmtx, ind), :] for ind in ind_common))\n",
    "U_pred = np.zeros(U.shape)\n",
    "# leave-one-out cross-validation across datasets\n",
    "for train_index, test_index in tqdm(loo.split(X)):\n",
    "    cold_start_mapping.fit(X[train_index, :], U[train_index, :])\n",
    "    U_pred[test_index, :] = cold_start_mapping.predict(X[test_index, :])[0]\n",
    "\n",
    "errmtx_pred = np.dot(U_pred, Y_pca)\n",
    "errmtx_common = np.vstack((errmtx[indloc(ind_errmtx, ind), :] for ind in ind_common))\n",
    "percentage_of_error = np.linalg.norm(errmtx_pred - errmtx_common, axis=1) / np.linalg.norm(errmtx_common, axis=1)\n"
   ]
  },
  {
   "cell_type": "code",
   "execution_count": null,
   "metadata": {},
   "outputs": [],
   "source": [
    "pd.DataFrame(ind_common, index=None, columns=None).to_csv(\"ind_alors.csv\", index=None, header=None)\n",
    "\n",
    "if centering:\n",
    "    pd.DataFrame(errmtx_common, index=None, columns=None).to_csv(\"errmtx_common_alors_centering.csv\", index=None, header=None)\n",
    "    pd.DataFrame(errmtx_pred, index=None, columns=None).to_csv(\"errmtx_pred_alors_centering.csv\", index=None, header=None)\n",
    "    pd.DataFrame(percentage_of_error, index=None, columns=None).to_csv(\"percentage_of_error_alors_centering.csv\", index=None, header=None)\n",
    "else:\n",
    "    pd.DataFrame(errmtx_common, index=None, columns=None).to_csv(\"errmtx_common_alors_non_centering.csv\", index=None, header=None)\n",
    "    pd.DataFrame(errmtx_pred, index=None, columns=None).to_csv(\"errmtx_pred_alors_non_centering.csv\", index=None, header=None)\n",
    "    pd.DataFrame(percentage_of_error, index=None, columns=None).to_csv(\"percentage_of_error_alors_non_centering.csv\", index=None, header=None)"
   ]
  },
  {
   "cell_type": "code",
   "execution_count": null,
   "metadata": {},
   "outputs": [],
   "source": [
    "np.average(percentage_of_error)"
   ]
  },
  {
   "cell_type": "code",
   "execution_count": null,
   "metadata": {},
   "outputs": [],
   "source": [
    "np.std(percentage_of_error)"
   ]
  },
  {
   "cell_type": "code",
   "execution_count": null,
   "metadata": {},
   "outputs": [],
   "source": [
    "ind_actual_best_five = np.argsort(np.argsort(errmtx_common, axis=1), axis=1)[:, :5]\n",
    "\n",
    "ind_pred_best_five = np.argsort(np.argsort(errmtx_pred, axis=1), axis=1)[:, :5]\n",
    "\n",
    "ind_overlap = [set(ind_actual_best_five[i, :]).intersection(set(ind_pred_best_five[i, :])) for i in range(ind_pred_best_five.shape[0])]\n",
    "\n",
    "average_accuracy = np.average([len(item) for item in ind_overlap])"
   ]
  },
  {
   "cell_type": "code",
   "execution_count": null,
   "metadata": {},
   "outputs": [],
   "source": [
    "# average (across datasets in LOOCV) prediction accuracy\n",
    "average_accuracy"
   ]
  }
 ],
 "metadata": {
  "kernelspec": {
   "display_name": "Python 3",
   "language": "python",
   "name": "python3"
  },
  "language_info": {
   "codemirror_mode": {
    "name": "ipython",
    "version": 3
   },
   "file_extension": ".py",
   "mimetype": "text/x-python",
   "name": "python",
   "nbconvert_exporter": "python",
   "pygments_lexer": "ipython3",
   "version": "3.6.4"
  }
 },
 "nbformat": 4,
 "nbformat_minor": 2
}

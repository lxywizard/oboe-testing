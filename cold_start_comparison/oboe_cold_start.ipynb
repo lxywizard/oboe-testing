{
 "cells": [
  {
   "cell_type": "code",
   "execution_count": null,
   "metadata": {},
   "outputs": [],
   "source": [
    "oboe_automl_path = '../../../oboe/automl/'\n",
    "metafeature_folder_path = 'selected_OpenML_dataset_metafeatures'"
   ]
  },
  {
   "cell_type": "code",
   "execution_count": null,
   "metadata": {},
   "outputs": [],
   "source": [
    "import numpy as np\n",
    "import pandas as pd\n",
    "import sys\n",
    "import re\n",
    "import os\n",
    "from sklearn.model_selection import LeaveOneOut\n",
    "from tqdm import tqdm\n",
    "sys.path.append(oboe_automl_path)\n",
    "import multiprocessing as mp"
   ]
  },
  {
   "cell_type": "code",
   "execution_count": null,
   "metadata": {},
   "outputs": [],
   "source": [
    "import linalg\n",
    "import convex_opt\n",
    "from sklearn.model_selection import LeaveOneOut\n",
    "import multiprocessing"
   ]
  },
  {
   "cell_type": "code",
   "execution_count": null,
   "metadata": {},
   "outputs": [],
   "source": [
    "num_cores = multiprocessing.cpu_count()"
   ]
  },
  {
   "cell_type": "code",
   "execution_count": null,
   "metadata": {},
   "outputs": [],
   "source": [
    "errmtx_df = pd.read_csv(os.path.join(oboe_automl_path, 'defaults/error_matrix.csv'), index_col=0, header=0)\n",
    "errmtx = errmtx_df.values\n",
    "runtime_df = pd.read_csv(os.path.join(oboe_automl_path, 'defaults/runtime_matrix.csv'), index_col=0, header=0)\n",
    "runtime = runtime_df.values\n",
    "dataset_sizes_df = pd.read_csv(os.path.join(oboe_automl_path, 'defaults/dataset_sizes.csv'), index_col=0, header=0)"
   ]
  },
  {
   "cell_type": "code",
   "execution_count": null,
   "metadata": {},
   "outputs": [],
   "source": [
    "ind_errmtx = errmtx_df.index.astype(int)\n",
    "ind_metafeatures = [int(re.findall(\"\\\\d+\", file)[0]) for file in os.listdir(metafeature_folder_path) if file.endswith('.csv') and 'sizes' not in file]\n",
    "ind_common = list(set(ind_errmtx).intersection(set(ind_metafeatures)))"
   ]
  },
  {
   "cell_type": "code",
   "execution_count": null,
   "metadata": {},
   "outputs": [],
   "source": [
    "def indloc(indices, ind):\n",
    "    return np.where(np.array(indices)==ind)[0][0]"
   ]
  },
  {
   "cell_type": "code",
   "execution_count": null,
   "metadata": {},
   "outputs": [],
   "source": [
    "errmtx_common = errmtx_df.loc[ind_common].values\n",
    "runtime_common_df = runtime_df.loc[ind_common]\n",
    "runtime_common = runtime_common_df.values"
   ]
  },
  {
   "cell_type": "code",
   "execution_count": null,
   "metadata": {},
   "outputs": [],
   "source": [
    "loo = LeaveOneOut()"
   ]
  },
  {
   "cell_type": "code",
   "execution_count": null,
   "metadata": {},
   "outputs": [],
   "source": [
    "#standard PCA\n",
    "X_pca, Y_pca, _ = linalg.pca(errmtx, threshold=0.01)\n",
    "#show how many principal components correspond to eigenvalues larger than 1% of the largest\n",
    "linalg.approx_rank(errmtx_common, threshold=0.01)"
   ]
  },
  {
   "cell_type": "code",
   "execution_count": null,
   "metadata": {},
   "outputs": [],
   "source": [
    "errmtx_pred = np.zeros(errmtx_common.shape)\n",
    "\n",
    "runtime_limit = 4\n",
    "scalarization = 'D'\n",
    "rank = linalg.approx_rank(errmtx_common, threshold=0.01)\n",
    "errors_encountered = []\n",
    "index_no_error = []\n",
    "\n",
    "# leave-one-out cross-validation across datasets\n",
    "for train_index, test_index in tqdm(loo.split(errmtx_common)):\n",
    "    try:\n",
    "        new_row = np.zeros((1, errmtx_common.shape[1]))\n",
    "        t_predicted = convex_opt.predict_runtime(tuple(np.array(dataset_sizes_df.loc[ind_common[test_index[0]]])), runtime_matrix=runtime_common_df.iloc[train_index])\n",
    "        valid = np.where(t_predicted <= num_cores * runtime_limit/2)[0]\n",
    "        Y = Y_pca[:, valid]\n",
    "        v_opt = convex_opt.solve(t_predicted[valid], runtime_limit/4, num_cores, Y, scalarization)\n",
    "        to_sample = valid[np.where(v_opt > 0.9)[0]]\n",
    "        new_row[:, to_sample] = errmtx_common[test_index, to_sample]\n",
    "        errmtx_pred[test_index, :] = linalg.impute(errmtx_common, new_row, to_sample, rank=rank)\n",
    "        index_no_error.append(test_index)\n",
    "    except:\n",
    "        print(\"Error encountered on dataset {}\".format(ind_common[test_index[0]]))\n",
    "        errors_encountered.append(ind_common[test_index[0]])        \n",
    "    \n",
    "\n",
    "index_no_error = [item[0] for item in index_no_error]"
   ]
  },
  {
   "cell_type": "code",
   "execution_count": null,
   "metadata": {},
   "outputs": [],
   "source": [
    "# save results\n",
    "errmtx_common_no_error = errmtx_common[index_no_error, :]\n",
    "errmtx_pred_no_error = errmtx_pred[index_no_error, :]\n",
    "percentage_of_error = np.linalg.norm(errmtx_pred_no_error - errmtx_common_no_error, axis=1) / np.linalg.norm(errmtx_common_no_error, axis=1)"
   ]
  },
  {
   "cell_type": "code",
   "execution_count": null,
   "metadata": {},
   "outputs": [],
   "source": [
    "pd.DataFrame(ind_common, index=None, columns=None).to_csv(\"ind_oboe.csv\", index=None, header=None)"
   ]
  },
  {
   "cell_type": "code",
   "execution_count": null,
   "metadata": {},
   "outputs": [],
   "source": [
    "pd.DataFrame(errmtx_common_no_error, index=None, columns=None).to_csv(\"errmtx_common_no_error_oboe_{}_{}.csv\".format(runtime_limit, scalarization), index=None, header=None)\n",
    "\n",
    "pd.DataFrame(errmtx_pred_no_error, index=None, columns=None).to_csv(\"errmtx_pred_no_error_oboe_{}_{}.csv\".format(runtime_limit, scalarization), index=None, header=None)\n",
    "\n",
    "pd.DataFrame(percentage_of_error, index=None, columns=None).to_csv(\"percentage_of_error_oboe_{}_{}.csv\".format(runtime_limit, scalarization), index=None, header=None)"
   ]
  }
 ],
 "metadata": {
  "kernelspec": {
   "display_name": "Python 3",
   "language": "python",
   "name": "python3"
  },
  "language_info": {
   "codemirror_mode": {
    "name": "ipython",
    "version": 3
   },
   "file_extension": ".py",
   "mimetype": "text/x-python",
   "name": "python",
   "nbconvert_exporter": "python",
   "pygments_lexer": "ipython3",
   "version": "3.6.4"
  }
 },
 "nbformat": 4,
 "nbformat_minor": 2
}

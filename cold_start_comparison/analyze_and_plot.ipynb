{
 "cells": [
  {
   "cell_type": "code",
   "execution_count": 21,
   "metadata": {},
   "outputs": [],
   "source": [
    "oboe_automl_path = '../../oboe/automl'\n",
    "metafeature_folder_path = 'selected_OpenML_dataset_metafeatures'"
   ]
  },
  {
   "cell_type": "code",
   "execution_count": 22,
   "metadata": {},
   "outputs": [],
   "source": [
    "import numpy as np\n",
    "import pandas as pd\n",
    "import sys\n",
    "import re\n",
    "import os\n",
    "from sklearn.model_selection import LeaveOneOut\n",
    "from tqdm import tqdm\n",
    "\n",
    "import matplotlib.pyplot as plt\n",
    "from matplotlib import rc\n",
    "import matplotlib.ticker as ticker\n",
    "rc('font', **{'family': 'serif', 'serif': ['Computer Modern'], 'weight': 'bold'})\n",
    "rc('text', usetex=True)\n",
    "\n",
    "sys.path.append(oboe_automl_path)"
   ]
  },
  {
   "cell_type": "code",
   "execution_count": 23,
   "metadata": {},
   "outputs": [],
   "source": [
    "import linalg\n",
    "import convex_opt\n",
    "from sklearn.model_selection import LeaveOneOut\n",
    "import multiprocessing"
   ]
  },
  {
   "cell_type": "code",
   "execution_count": 24,
   "metadata": {},
   "outputs": [],
   "source": [
    "# D-optimal: 6.17s/it\n",
    "# A-optimal: 8.75s/it\n",
    "# E-optimal: 20.21s/it"
   ]
  },
  {
   "cell_type": "code",
   "execution_count": 25,
   "metadata": {},
   "outputs": [],
   "source": [
    "# compare percentage\n",
    "\n",
    "percentage_A = pd.read_csv(\"percentage_of_error_oboe_4_A.csv\", index_col=None, header=None).values\n",
    "\n",
    "percentage_D = pd.read_csv(\"percentage_of_error_oboe_4_D.csv\", index_col=None, header=None).values\n",
    "\n",
    "percentage_E = pd.read_csv(\"percentage_of_error_oboe_4_E.csv\", index_col=None, header=None).values\n"
   ]
  },
  {
   "cell_type": "code",
   "execution_count": 26,
   "metadata": {},
   "outputs": [
    {
     "data": {
      "text/plain": [
       "0.4343608929010247"
      ]
     },
     "execution_count": 26,
     "metadata": {},
     "output_type": "execute_result"
    }
   ],
   "source": [
    "np.average(percentage_A)"
   ]
  },
  {
   "cell_type": "code",
   "execution_count": 27,
   "metadata": {},
   "outputs": [
    {
     "data": {
      "text/plain": [
       "0.469194919470108"
      ]
     },
     "execution_count": 27,
     "metadata": {},
     "output_type": "execute_result"
    }
   ],
   "source": [
    "np.average(percentage_D)"
   ]
  },
  {
   "cell_type": "code",
   "execution_count": 28,
   "metadata": {},
   "outputs": [
    {
     "data": {
      "text/plain": [
       "0.31730454508311395"
      ]
     },
     "execution_count": 28,
     "metadata": {},
     "output_type": "execute_result"
    }
   ],
   "source": [
    "np.average(percentage_E)"
   ]
  },
  {
   "cell_type": "code",
   "execution_count": 29,
   "metadata": {},
   "outputs": [],
   "source": [
    "errmtx_common_no_error_oboe_A = pd.read_csv(\"errmtx_common_no_error_oboe_4_A.csv\", index_col=None, header=None).values\n",
    "errmtx_common_no_error_oboe_D = pd.read_csv(\"errmtx_common_no_error_oboe_4_D.csv\", index_col=None, header=None).values\n",
    "errmtx_common_no_error_oboe_E = pd.read_csv(\"errmtx_common_no_error_oboe_4_E.csv\", index_col=None, header=None).values\n",
    "errmtx_pred_no_error_oboe_A = pd.read_csv(\"errmtx_pred_no_error_oboe_4_A.csv\", index_col=None, header=None).values\n",
    "errmtx_pred_no_error_oboe_D = pd.read_csv(\"errmtx_pred_no_error_oboe_4_D.csv\", index_col=None, header=None).values\n",
    "errmtx_pred_no_error_oboe_E = pd.read_csv(\"errmtx_pred_no_error_oboe_4_E.csv\", index_col=None, header=None).values"
   ]
  },
  {
   "cell_type": "code",
   "execution_count": 30,
   "metadata": {},
   "outputs": [],
   "source": [
    "# compare number of best predicted models\n",
    "A_ind_actual_best_five = np.argsort(np.argsort(errmtx_common_no_error_oboe_A, axis=1), axis=1)[:, :5]\n",
    "\n",
    "A_ind_pred_best_five = np.argsort(np.argsort(errmtx_pred_no_error_oboe_A, axis=1), axis=1)[:, :5]\n",
    "\n",
    "D_ind_actual_best_five = np.argsort(np.argsort(errmtx_common_no_error_oboe_D, axis=1), axis=1)[:, :5]\n",
    "\n",
    "D_ind_pred_best_five = np.argsort(np.argsort(errmtx_pred_no_error_oboe_D, axis=1), axis=1)[:, :5]\n",
    "\n",
    "E_ind_actual_best_five = np.argsort(np.argsort(errmtx_common_no_error_oboe_E, axis=1), axis=1)[:, :5]\n",
    "\n",
    "E_ind_pred_best_five = np.argsort(np.argsort(errmtx_pred_no_error_oboe_E, axis=1), axis=1)[:, :5]"
   ]
  },
  {
   "cell_type": "code",
   "execution_count": 31,
   "metadata": {},
   "outputs": [],
   "source": [
    "A_ind_overlap = [set(A_ind_actual_best_five[i, :]).intersection(set(A_ind_pred_best_five[i, :])) for i in range(A_ind_actual_best_five.shape[0])]\n",
    "\n",
    "D_ind_overlap = [set(D_ind_actual_best_five[i, :]).intersection(set(D_ind_pred_best_five[i, :])) for i in range(D_ind_actual_best_five.shape[0])]\n",
    "\n",
    "E_ind_overlap = [set(E_ind_actual_best_five[i, :]).intersection(set(E_ind_pred_best_five[i, :])) for i in range(E_ind_actual_best_five.shape[0])]"
   ]
  },
  {
   "cell_type": "code",
   "execution_count": 32,
   "metadata": {},
   "outputs": [],
   "source": [
    "A_average_accuracy = np.average([len(item) for item in A_ind_overlap])\n",
    "\n",
    "D_average_accuracy = np.average([len(item) for item in D_ind_overlap])\n",
    "\n",
    "E_average_accuracy = np.average([len(item) for item in E_ind_overlap])"
   ]
  },
  {
   "cell_type": "code",
   "execution_count": 33,
   "metadata": {},
   "outputs": [
    {
     "data": {
      "text/plain": [
       "0.8923444976076556"
      ]
     },
     "execution_count": 33,
     "metadata": {},
     "output_type": "execute_result"
    }
   ],
   "source": [
    "A_average_accuracy"
   ]
  },
  {
   "cell_type": "code",
   "execution_count": 34,
   "metadata": {},
   "outputs": [
    {
     "data": {
      "text/plain": [
       "1.0142517814726841"
      ]
     },
     "execution_count": 34,
     "metadata": {},
     "output_type": "execute_result"
    }
   ],
   "source": [
    "D_average_accuracy"
   ]
  },
  {
   "cell_type": "code",
   "execution_count": 35,
   "metadata": {},
   "outputs": [
    {
     "data": {
      "text/plain": [
       "0.8033573141486811"
      ]
     },
     "execution_count": 35,
     "metadata": {},
     "output_type": "execute_result"
    }
   ],
   "source": [
    "E_average_accuracy"
   ]
  },
  {
   "cell_type": "code",
   "execution_count": 36,
   "metadata": {},
   "outputs": [],
   "source": [
    "A_average_accuracy_list = []\n",
    "D_average_accuracy_list = []\n",
    "E_average_accuracy_list = []\n",
    "\n",
    "for num_overlap in range(1, 11):\n",
    "    A_ind_actual_best_several = np.argsort(np.argsort(errmtx_common_no_error_oboe_A, axis=1), axis=1)[:, :num_overlap]\n",
    "    A_ind_pred_best_several = np.argsort(np.argsort(errmtx_pred_no_error_oboe_A, axis=1), axis=1)[:, :num_overlap]\n",
    "    D_ind_actual_best_several = np.argsort(np.argsort(errmtx_common_no_error_oboe_D, axis=1), axis=1)[:, :num_overlap]\n",
    "    D_ind_pred_best_several = np.argsort(np.argsort(errmtx_pred_no_error_oboe_D, axis=1), axis=1)[:, :num_overlap]\n",
    "    E_ind_actual_best_several = np.argsort(np.argsort(errmtx_common_no_error_oboe_E, axis=1), axis=1)[:, :num_overlap]\n",
    "    E_ind_pred_best_several = np.argsort(np.argsort(errmtx_pred_no_error_oboe_E, axis=1), axis=1)[:, :num_overlap]\n",
    "    A_ind_overlap = [set(A_ind_actual_best_several[i, :]).intersection(set(A_ind_pred_best_several[i, :])) for i in range(A_ind_actual_best_several.shape[0])]\n",
    "    D_ind_overlap = [set(D_ind_actual_best_several[i, :]).intersection(set(D_ind_pred_best_several[i, :])) for i in range(D_ind_actual_best_several.shape[0])]\n",
    "    E_ind_overlap = [set(E_ind_actual_best_several[i, :]).intersection(set(E_ind_pred_best_several[i, :])) for i in range(E_ind_actual_best_several.shape[0])]\n",
    "\n",
    "    A_average_accuracy = np.average([len(item) for item in A_ind_overlap])\n",
    "    D_average_accuracy = np.average([len(item) for item in D_ind_overlap])\n",
    "    E_average_accuracy = np.average([len(item) for item in E_ind_overlap])\n",
    "    \n",
    "    A_average_accuracy_list.append(A_average_accuracy)\n",
    "    D_average_accuracy_list.append(D_average_accuracy)\n",
    "    E_average_accuracy_list.append(E_average_accuracy)    "
   ]
  },
  {
   "cell_type": "code",
   "execution_count": 37,
   "metadata": {},
   "outputs": [],
   "source": [
    "alors_errmtx_common_no_error = pd.read_csv(\"errmtx_common_alors_non_centering.csv\", index_col=None, header=None).values\n",
    "alors_errmtx_pred = pd.read_csv(\"errmtx_pred_alors_non_centering.csv\", index_col=None, header=None).values\n",
    "alors_percentage_of_error = pd.read_csv(\"percentage_of_error_alors_non_centering.csv\", index_col=None, header=None).values"
   ]
  },
  {
   "cell_type": "code",
   "execution_count": 38,
   "metadata": {},
   "outputs": [],
   "source": [
    "alors_average_accuracy_list = []\n",
    "\n",
    "for num_overlap in range(1, 11):\n",
    "    alors_ind_actual_best_several = np.argsort(np.argsort(alors_errmtx_common_no_error, axis=1), axis=1)[:, :num_overlap]\n",
    "    alors_ind_pred_best_several = np.argsort(np.argsort(alors_errmtx_pred, axis=1), axis=1)[:, :num_overlap]\n",
    "    alors_ind_overlap = [set(alors_ind_actual_best_several[i, :]).intersection(set(alors_ind_pred_best_several[i, :])) for i in range(alors_ind_pred_best_several.shape[0])]\n",
    "    alors_average_accuracy = np.average([len(item) for item in alors_ind_overlap])\n",
    "    alors_average_accuracy_list.append(alors_average_accuracy)"
   ]
  },
  {
   "cell_type": "code",
   "execution_count": 39,
   "metadata": {
    "scrolled": true
   },
   "outputs": [],
   "source": [
    "D_average_accuracy_percentage = np.array(D_average_accuracy_list)/np.arange(1, 11)\n",
    "A_average_accuracy_percentage = np.array(A_average_accuracy_list)/np.arange(1, 11)\n",
    "E_average_accuracy_percentage = np.array(E_average_accuracy_list)/np.arange(1, 11)\n",
    "alors_average_accuracy_percentage = np.array(alors_average_accuracy_list)/np.arange(1, 11)"
   ]
  },
  {
   "cell_type": "code",
   "execution_count": 47,
   "metadata": {},
   "outputs": [
    {
     "name": "stderr",
     "output_type": "stream",
     "text": [
      "/home/cy438/anaconda3/lib/python3.6/site-packages/matplotlib/font_manager.py:1328: UserWarning: findfont: Font family ['serif'] not found. Falling back to DejaVu Sans\n",
      "  (prop.get_family(), self.defaultFamily[fontext]))\n"
     ]
    },
    {
     "data": {
      "image/png": "[encoded data removed]",
      "text/plain": [
       "<Figure size 576x432 with 1 Axes>"
      ]
     },
     "metadata": {},
     "output_type": "display_data"
    }
   ],
   "source": [
    "fig, ax = plt.subplots(figsize=(8, 6))\n",
    "colors = ['red', 'blue', 'green', 'purple', 'indigo']\n",
    "fontsize_axes = 40\n",
    "legend_marker_size = 30\n",
    "\n",
    "ax.scatter(np.linspace(1, 10, 10), D_average_accuracy_percentage, color=colors[0], marker='v', s=200, label='D-optimal')\n",
    "ax.scatter(np.linspace(1, 10, 10), A_average_accuracy_percentage, color=colors[1], marker='o', facecolors=\"None\", s=100, linewidth=2, label='A-optimal')\n",
    "ax.scatter(np.linspace(1, 10, 10), E_average_accuracy_percentage, color=colors[2], marker='s', s=100, label='E-optimal')\n",
    "\n",
    "ax.scatter(np.linspace(1, 10, 10), alors_average_accuracy_percentage, color=colors[3], marker='*', s=175, label='Alors')\n",
    "\n",
    "ax.set_xlabel('number of best entries', fontsize=fontsize_axes)\n",
    "ax.set_ylabel('average accuracy percentage', fontsize=fontsize_axes)\n",
    "# ax.legend(loc='lower right', fontsize=legend_marker_size, bbox_to_anchor=(1.45, -0.05))\n",
    "ax.legend(loc='upper left', fontsize=legend_marker_size - 5)\n",
    "plt.xticks(fontsize=fontsize_axes)\n",
    "plt.yticks(fontsize=fontsize_axes)\n",
    "plt.gca().yaxis.set_major_formatter(ticker.PercentFormatter(xmax=1, decimals=0))\n",
    "\n",
    "# plt.show()\n",
    "\n",
    "plt.savefig('cold_start_no_COCA.pdf', bbox_inches='tight')"
   ]
  }
 ],
 "metadata": {
  "kernelspec": {
   "display_name": "Python 3",
   "language": "python",
   "name": "python3"
  },
  "language_info": {
   "codemirror_mode": {
    "name": "ipython",
    "version": 3
   },
   "file_extension": ".py",
   "mimetype": "text/x-python",
   "name": "python",
   "nbconvert_exporter": "python",
   "pygments_lexer": "ipython3",
   "version": "3.6.4"
  }
 },
 "nbformat": 4,
 "nbformat_minor": 2
}

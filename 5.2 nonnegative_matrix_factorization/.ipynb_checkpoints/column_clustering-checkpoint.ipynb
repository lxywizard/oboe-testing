{
 "cells": [
  {
   "cell_type": "code",
   "execution_count": 1,
   "metadata": {},
   "outputs": [],
   "source": [
    "import numpy as np\n",
    "import pandas as pd\n",
    "from sklearn.decomposition import NMF\n",
    "from matplotlib import pyplot as plt\n",
    "from matplotlib.ticker import AutoMinorLocator\n",
    "from matplotlib import rc\n",
    "rc('font', **{'family': 'serif', 'serif': ['Computer Modern'], 'weight': 'bold'})\n",
    "rc('text', usetex=True)"
   ]
  },
  {
   "cell_type": "markdown",
   "metadata": {},
   "source": [
    "Set number of clusters for nonnegative matrix factorization:"
   ]
  },
  {
   "cell_type": "code",
   "execution_count": 2,
   "metadata": {},
   "outputs": [],
   "source": [
    "n_clusters = 12"
   ]
  },
  {
   "cell_type": "markdown",
   "metadata": {},
   "source": [
    "Perform nonnegative matrix factorization that decomposes the error matrix into W*H:"
   ]
  },
  {
   "cell_type": "code",
   "execution_count": 3,
   "metadata": {},
   "outputs": [],
   "source": [
    "errmtx_df = pd.read_csv('../../oboe/automl/defaults/error_matrix.csv', index_col=0, header=0)\n",
    "model = NMF(n_components=n_clusters, init='nndsvd', random_state=0)\n",
    "model.fit(errmtx_df)\n",
    "H = model.components_\n",
    "cluster_belongings = np.argmax(H, axis=0)"
   ]
  },
  {
   "cell_type": "markdown",
   "metadata": {},
   "source": [
    "Get algorithm names of the error matrix columns:"
   ]
  },
  {
   "cell_type": "code",
   "execution_count": 4,
   "metadata": {},
   "outputs": [],
   "source": [
    "algorithm_names = ['Adaboost', 'Decision Tree', 'Extra Trees', 'Gradient Boosting', 'Gaussian Naive Bayes', 'kNN', 'Logistic Regression', 'Multilayer Perceptron', 'Perceptron', 'Random Forest', 'Kernel SVM', 'Linear SVM']\n",
    "\n",
    "algorithms_in_col = [eval(item)['algorithm'] for item in errmtx_df.columns]\n",
    "algorithms_in_col_unique = np.unique(algorithms_in_col)\n",
    "\n",
    "n_algorithms = len(algorithms_in_col_unique)\n",
    "\n",
    "algorithms_in_col_full_name = [algorithm_names[np.where(algorithms_in_col_unique==item)[0][0]] for item in algorithms_in_col]\n",
    "\n",
    "algorithms_in_col_full_name_unique = np.unique(algorithms_in_col_full_name)"
   ]
  },
  {
   "cell_type": "markdown",
   "metadata": {},
   "source": [
    "Count number of occurrences of different algorithms in different clusters, and re-order the clusters:"
   ]
  },
  {
   "cell_type": "code",
   "execution_count": 5,
   "metadata": {},
   "outputs": [],
   "source": [
    "density = pd.DataFrame(np.zeros((n_clusters, len(algorithms_in_col_full_name_unique))), index=np.arange(n_clusters)+1, columns=algorithms_in_col_full_name_unique)\n",
    "\n",
    "for idx_cluster in range(n_clusters):\n",
    "    unique, counts = np.unique(np.array(algorithms_in_col_full_name)[np.where(cluster_belongings==idx_cluster)], return_counts=True)\n",
    "    cluster_dict = dict(zip(unique, counts))\n",
    "    for key in cluster_dict:\n",
    "        density.iloc[idx_cluster, list(density.columns).index(key)] = cluster_dict[key]\n",
    "\n",
    "ordered_columns = ['Decision Tree', 'Extra Trees', 'Random Forest', 'Gradient Boosting', 'Gaussian Naive Bayes', 'Adaboost', 'Kernel SVM', 'Linear SVM', 'Logistic Regression', 'Perceptron', 'Multilayer Perceptron', 'kNN']\n",
    "\n",
    "ordered_rows = [1, 2, 6, 7, 9, 5, 4, 8, 10, 3, 11, 12]\n",
    "\n",
    "density = density.loc[ordered_rows, ordered_columns]"
   ]
  },
  {
   "cell_type": "markdown",
   "metadata": {},
   "source": [
    "Plot the heatmap (Figure 8) in paper:"
   ]
  },
  {
   "cell_type": "code",
   "execution_count": 6,
   "metadata": {},
   "outputs": [
    {
     "data": {
      "text/plain": [
       "<matplotlib.colorbar.Colorbar at 0x1099a77f0>"
      ]
     },
     "execution_count": 6,
     "metadata": {},
     "output_type": "execute_result"
    },
    {
     "name": "stderr",
     "output_type": "stream",
     "text": [
      "/anaconda3/lib/python3.6/site-packages/matplotlib/font_manager.py:1328: UserWarning: findfont: Font family ['serif'] not found. Falling back to DejaVu Sans\n",
      "  (prop.get_family(), self.defaultFamily[fontext]))\n",
      "/anaconda3/lib/python3.6/site-packages/matplotlib/font_manager.py:1328: UserWarning: findfont: Font family ['serif'] not found. Falling back to DejaVu Sans\n",
      "  (prop.get_family(), self.defaultFamily[fontext]))\n",
      "/anaconda3/lib/python3.6/site-packages/matplotlib/font_manager.py:1328: UserWarning: findfont: Font family ['serif'] not found. Falling back to DejaVu Sans\n",
      "  (prop.get_family(), self.defaultFamily[fontext]))\n"
     ]
    },
    {
     "data": {
      "image/png": "[encoded data removed]",
      "text/plain": [
       "<Figure size 432x288 with 2 Axes>"
      ]
     },
     "metadata": {},
     "output_type": "display_data"
    }
   ],
   "source": [
    "fontsize = 18\n",
    "plt.rcParams.update({'font.size': fontsize}) \n",
    "plt.imshow(density, cmap='Greys')\n",
    "plt.xticks(np.arange(n_algorithms), ordered_columns, rotation=90, fontsize=fontsize-2)\n",
    "plt.yticks(np.arange(n_clusters), np.arange(n_clusters)+1, fontsize=fontsize)\n",
    "minor_locator1 = AutoMinorLocator(2)\n",
    "plt.gca().xaxis.set_minor_locator(minor_locator1)\n",
    "plt.gca().yaxis.set_minor_locator(minor_locator1)\n",
    "plt.grid(which='minor')\n",
    "plt.tick_params(bottom=False, left=False)\n",
    "plt.ylabel('cluster index', fontsize=fontsize)\n",
    "plt.colorbar()"
   ]
  }
 ],
 "metadata": {
  "kernelspec": {
   "display_name": "Python 3",
   "language": "python",
   "name": "python3"
  },
  "language_info": {
   "codemirror_mode": {
    "name": "ipython",
    "version": 3
   },
   "file_extension": ".py",
   "mimetype": "text/x-python",
   "name": "python",
   "nbconvert_exporter": "python",
   "pygments_lexer": "ipython3",
   "version": "3.6.5"
  }
 },
 "nbformat": 4,
 "nbformat_minor": 2
}
